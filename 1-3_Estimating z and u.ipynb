{
 "cells": [
  {
   "cell_type": "code",
   "execution_count": 1,
   "metadata": {},
   "outputs": [],
   "source": [
    "import numpy as np\n",
    "import pandas as pd\n",
    "import matplotlib.pyplot as plt\n",
    "from scipy.stats import linregress"
   ]
  },
  {
   "cell_type": "code",
   "execution_count": 10,
   "metadata": {},
   "outputs": [
    {
     "name": "stdout",
     "output_type": "stream",
     "text": [
      "3.1925237340085353\n"
     ]
    }
   ],
   "source": [
    "#Estimate u* using depth-slope product\n",
    "\n",
    "S=(1.66 -1.656)/ 4.62\n",
    "k=0.41\n",
    "p=1\n",
    "g=981\n",
    "h=12\n",
    "T=p*g*h*S\n",
    "u_a=np.sqrt(g*h*S)\n",
    "print (u_a)"
   ]
  },
  {
   "cell_type": "code",
   "execution_count": 2,
   "metadata": {},
   "outputs": [
    {
     "name": "stdout",
     "output_type": "stream",
     "text": [
      "   Depth      Ln_z       Av_U     StD_U      Av_Z     StD_Z  ta_uwprime\n",
      "0   0.30 -1.203973   0.174742  0.689911 -0.070122  0.156207        0.08\n",
      "1   0.50 -0.693147   2.687432  1.602432 -0.768245  0.518862        0.09\n",
      "2   0.70 -0.356675  11.533189  3.108170 -3.147857  1.532626        1.05\n",
      "3   1.10  0.095310  15.873256  4.734313 -5.019735  2.576241        2.80\n",
      "4   2.30  0.832909  18.991424  5.265327 -4.508981  2.620217        4.26\n",
      "5   3.30  1.193922  21.550186  4.073775 -3.025326  2.124320        3.59\n",
      "6   3.60  1.280934  24.831930  3.844301 -1.711349  2.189829        3.12\n",
      "7   4.70  1.547563  27.054185  3.786924 -1.558193  1.925288        1.92\n",
      "8   5.80  1.757858  28.423498  3.258767 -1.346171  2.072106        3.02\n",
      "9   6.55  1.879465  29.176633  3.333430 -1.217789  1.758192        1.90\n"
     ]
    }
   ],
   "source": [
    "data_a = pd.read_csv(\"Depth_simple.csv\")\n",
    "print (data_a)"
   ]
  },
  {
   "cell_type": "code",
   "execution_count": 3,
   "metadata": {},
   "outputs": [],
   "source": [
    "x = data_a.Ln_z\n",
    "y = data_a.Av_U"
   ]
  },
  {
   "cell_type": "code",
   "execution_count": 8,
   "metadata": {},
   "outputs": [
    {
     "data": {
      "text/plain": [
       "<matplotlib.collections.PathCollection at 0x2cf41ebe048>"
      ]
     },
     "execution_count": 8,
     "metadata": {},
     "output_type": "execute_result"
    },
    {
     "data": {
      "image/png": "[encoded data removed]",
      "text/plain": [
       "<Figure size 432x288 with 1 Axes>"
      ]
     },
     "metadata": {
      "needs_background": "light"
     },
     "output_type": "display_data"
    }
   ],
   "source": [
    "#Average U velocity against ln Z. lnz= (k/u*)U+C\n",
    "stats = linregress(y,x)\n",
    "\n",
    "m = stats.slope\n",
    "b = stats.intercept\n",
    "\n",
    "plt.scatter(y,x)\n"
   ]
  },
  {
   "cell_type": "code",
   "execution_count": 22,
   "metadata": {},
   "outputs": [
    {
     "name": "stdout",
     "output_type": "stream",
     "text": [
      "3.949525671387703\n",
      "0.28989401191120584\n"
     ]
    }
   ],
   "source": [
    "\n",
    "#Estimate u* using the slope of the velocity profile. This is equal to ln of Z0 ; e^-1.2 = Z0\n",
    "k=0.41\n",
    "e = 2.71828182845904523536028747135266249775724709369995\n",
    "u_b = k/m\n",
    "print (u_b)\n",
    "\n",
    "#Eastimate z0 using y-inter (lnz0=b)****\n",
    "z_na=e**float(b)\n",
    "print (z_na)"
   ]
  },
  {
   "cell_type": "code",
   "execution_count": 36,
   "metadata": {},
   "outputs": [
    {
     "name": "stdout",
     "output_type": "stream",
     "text": [
      "0.0027904713436383813\n"
     ]
    }
   ],
   "source": [
    "#Estimate u* using the law of the wall\n",
    "\n",
    "u= 15.873256\n",
    "z= 0.095310\n",
    "\n",
    "u_c = u*k/(e**float(z/z_na)\n",
    "print (u_c)\n",
    "\n",
    "\n"
   ]
  },
  {
   "cell_type": "code",
   "execution_count": 25,
   "metadata": {},
   "outputs": [],
   "source": [
    "#Estimate of z_o (D84/10)\n",
    "data_b = pd.read_csv(\"diameter.csv\")\n",
    "\n",
    "U_av=21.55019\n",
    "z_1=6.8\n"
   ]
  },
  {
   "cell_type": "code",
   "execution_count": 27,
   "metadata": {},
   "outputs": [
    {
     "name": "stdout",
     "output_type": "stream",
     "text": [
      "0.32\n"
     ]
    }
   ],
   "source": [
    "z_nb = np.percentile(data_b['size '],84)/10\n",
    "print (z_nb)"
   ]
  },
  {
   "cell_type": "code",
   "execution_count": 35,
   "metadata": {},
   "outputs": [
    {
     "name": "stdout",
     "output_type": "stream",
     "text": [
      "for #1 a) 3.1925237340085353 and b) 3.949525671387703 and c) 0.14639414332901807\n"
     ]
    }
   ],
   "source": [
    "print('for #1 a) ' +str( u_a)+\" and b) \" +str(u_b)+\" and c) \" +str(u_c))"
   ]
  },
  {
   "cell_type": "code",
   "execution_count": 38,
   "metadata": {},
   "outputs": [
    {
     "name": "stdout",
     "output_type": "stream",
     "text": [
      "for #3 0.32\n"
     ]
    }
   ],
   "source": [
    "print('for #3 ' +str(z_nb))"
   ]
  },
  {
   "cell_type": "code",
   "execution_count": null,
   "metadata": {},
   "outputs": [],
   "source": []
  }
 ],
 "metadata": {
  "kernelspec": {
   "display_name": "Python 3",
   "language": "python",
   "name": "python3"
  },
  "language_info": {
   "codemirror_mode": {
    "name": "ipython",
    "version": 3
   },
   "file_extension": ".py",
   "mimetype": "text/x-python",
   "name": "python",
   "nbconvert_exporter": "python",
   "pygments_lexer": "ipython3",
   "version": "3.7.1"
  }
 },
 "nbformat": 4,
 "nbformat_minor": 2
}
